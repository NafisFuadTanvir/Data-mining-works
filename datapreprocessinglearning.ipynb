{
  "nbformat": 4,
  "nbformat_minor": 0,
  "metadata": {
    "colab": {
      "provenance": [],
      "authorship_tag": "ABX9TyO7l7xF2v7dCVduv3AVO93O",
      "include_colab_link": true
    },
    "kernelspec": {
      "name": "python3",
      "display_name": "Python 3"
    },
    "language_info": {
      "name": "python"
    }
  },
  "cells": [
    {
      "cell_type": "markdown",
      "metadata": {
        "id": "view-in-github",
        "colab_type": "text"
      },
      "source": [
        "<a href=\"https://colab.research.google.com/github/NafisFuadTanvir/Data-mining-works/blob/main/datapreprocessinglearning.ipynb\" target=\"_parent\"><img src=\"https://colab.research.google.com/assets/colab-badge.svg\" alt=\"Open In Colab\"/></a>"
      ]
    },
    {
      "cell_type": "code",
      "execution_count": null,
      "metadata": {
        "colab": {
          "base_uri": "https://localhost:8080/"
        },
        "id": "FZlAu9BGKUZB",
        "outputId": "0e9fb37e-fa07-414b-bade-22b979265a4b"
      },
      "outputs": [
        {
          "output_type": "stream",
          "name": "stdout",
          "text": [
            "   year  men_median  men_average  women_median  women_average  \\\n",
            "0  2022       24.91        35.82         20.74          27.86   \n",
            "1  2021       24.93        35.61         21.46          28.28   \n",
            "2  2020       25.95        36.03         21.72          28.75   \n",
            "3  2019       24.04        33.65         20.42          26.83   \n",
            "4  2018       23.42        33.19         19.73          26.21   \n",
            "\n",
            "   white_men_median  white_men_average  black_men_median  black_men_average  \\\n",
            "0             27.11              39.10             20.02              27.43   \n",
            "1             27.76              38.78             20.08              26.88   \n",
            "2             28.36              39.08             20.56              27.40   \n",
            "3             27.39              36.84             19.31              25.18   \n",
            "4             26.79              36.55             18.66              24.67   \n",
            "\n",
            "   hispanic_men_median  hispanic_men_average  white_women_median  \\\n",
            "0                19.99                 26.63               22.47   \n",
            "1                20.20                 26.45               22.76   \n",
            "2                20.41                 27.05               23.05   \n",
            "3                19.39                 25.08               22.01   \n",
            "4                18.77                 24.55               21.75   \n",
            "\n",
            "   white_women_average  black_women_median  black_women_average  \\\n",
            "0                29.50               19.00                23.99   \n",
            "1                29.90               18.85                24.13   \n",
            "2                30.30               19.26                24.87   \n",
            "3                28.41               18.08                23.17   \n",
            "4                28.01               17.34                22.55   \n",
            "\n",
            "   hispanic_women_median  hispanic_women_average  \n",
            "0                  17.54                   22.60  \n",
            "1                  17.77                   22.90  \n",
            "2                  17.55                   23.03  \n",
            "3                  17.08                   21.50  \n",
            "4                  16.24                   20.60  \n"
          ]
        }
      ],
      "source": [
        "import pandas as pd\n",
        "import numpy as np\n",
        "\n",
        "data= pd.read_csv(\"/content/gender_wage_gap.csv\")\n",
        "print(data.head())"
      ]
    },
    {
      "cell_type": "code",
      "source": [
        "data.info()"
      ],
      "metadata": {
        "colab": {
          "base_uri": "https://localhost:8080/"
        },
        "id": "He8Y8T4bRL6C",
        "outputId": "b963f24e-2f01-419c-d8a3-3c34491cceb1"
      },
      "execution_count": null,
      "outputs": [
        {
          "output_type": "stream",
          "name": "stdout",
          "text": [
            "<class 'pandas.core.frame.DataFrame'>\n",
            "RangeIndex: 50 entries, 0 to 49\n",
            "Data columns (total 17 columns):\n",
            " #   Column                  Non-Null Count  Dtype  \n",
            "---  ------                  --------------  -----  \n",
            " 0   year                    50 non-null     int64  \n",
            " 1   men_median              50 non-null     float64\n",
            " 2   men_average             50 non-null     float64\n",
            " 3   women_median            50 non-null     float64\n",
            " 4   women_average           50 non-null     float64\n",
            " 5   white_men_median        50 non-null     float64\n",
            " 6   white_men_average       50 non-null     float64\n",
            " 7   black_men_median        50 non-null     float64\n",
            " 8   black_men_average       50 non-null     float64\n",
            " 9   hispanic_men_median     50 non-null     float64\n",
            " 10  hispanic_men_average    50 non-null     float64\n",
            " 11  white_women_median      50 non-null     float64\n",
            " 12  white_women_average     50 non-null     float64\n",
            " 13  black_women_median      50 non-null     float64\n",
            " 14  black_women_average     50 non-null     float64\n",
            " 15  hispanic_women_median   50 non-null     float64\n",
            " 16  hispanic_women_average  50 non-null     float64\n",
            "dtypes: float64(16), int64(1)\n",
            "memory usage: 6.8 KB\n"
          ]
        }
      ]
    },
    {
      "cell_type": "code",
      "source": [
        "print(data.isnull().sum())"
      ],
      "metadata": {
        "colab": {
          "base_uri": "https://localhost:8080/"
        },
        "id": "SkMZZ3XDRWHI",
        "outputId": "6d230201-566f-4fd2-8030-2268c71d5c49"
      },
      "execution_count": null,
      "outputs": [
        {
          "output_type": "stream",
          "name": "stdout",
          "text": [
            "year                      0\n",
            "men_median                0\n",
            "men_average               0\n",
            "women_median              0\n",
            "women_average             0\n",
            "white_men_median          0\n",
            "white_men_average         0\n",
            "black_men_median          0\n",
            "black_men_average         0\n",
            "hispanic_men_median       0\n",
            "hispanic_men_average      0\n",
            "white_women_median        0\n",
            "white_women_average       0\n",
            "black_women_median        0\n",
            "black_women_average       0\n",
            "hispanic_women_median     0\n",
            "hispanic_women_average    0\n",
            "dtype: int64\n"
          ]
        }
      ]
    },
    {
      "cell_type": "code",
      "source": [],
      "metadata": {
        "id": "1J_3bEOoSEi4"
      },
      "execution_count": null,
      "outputs": []
    }
  ]
}